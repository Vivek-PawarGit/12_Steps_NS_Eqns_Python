{
 "cells": [
  {
   "cell_type": "markdown",
   "metadata": {},
   "source": [
    "# 1D Linear Convection \n",
    "\n",
    "\n",
    "$$\\frac{\\partial u}{\\partial t} + c \\frac{\\partial u}{\\partial x} = 0$$"
   ]
  },
  {
   "cell_type": "code",
   "execution_count": 15,
   "metadata": {},
   "outputs": [],
   "source": [
    "import numpy as np \n",
    "from matplotlib import pyplot      #here we load matplotlib\n",
    "import time, sys                   #for time animation  and load some utilities"
   ]
  },
  {
   "cell_type": "code",
   "execution_count": 16,
   "metadata": {},
   "outputs": [],
   "source": [
    "def Linear_Conv(nx):\n",
    "\n",
    "    #nx = 21  # try changing this number from 41 to 81 and Run All ... what happens?\n",
    "    dx = 2 / (nx-1)\n",
    "    nt = 25    #nt is the number of timesteps we want to calculate\n",
    "    dt = .001  #dt is the amount of time each timestep covers (delta t)\n",
    "    c = 1      #assume wavespeed of c = 1\n",
    "    \n",
    "    u = np.ones(nx)      #numpy function ones()\n",
    "    u[int(.5 / dx):int(1 / dx) + 1] = 2  #setting u = 2 between 0.5 and 1 as per our I.C.s\n",
    "    #print(u)\n",
    "    \n",
    "    #pyplot.plot(np.linspace(0,2,nx),u)\n",
    "    \n",
    "    un = np.ones(nx)\n",
    "\n",
    "    for n in range(nt):\n",
    "        un = u.copy()\n",
    "        for i in range(1,nx):\n",
    "            u[i] = un[i] - c * dt/dx * (un[i] - un[i-1])\n",
    "            \n",
    "            #pyplot.plot(np.linspace(0,2,nx),u)\n",
    "    pyplot.plot(np.linspace(0,2,nx),u)"
   ]
  },
  {
   "cell_type": "code",
   "execution_count": 17,
   "metadata": {},
   "outputs": [
    {
     "data": {
      "image/png": "[encoded data removed]",
      "text/plain": [
       "<Figure size 432x288 with 1 Axes>"
      ]
     },
     "metadata": {
      "needs_background": "light"
     },
     "output_type": "display_data"
    }
   ],
   "source": [
    "Linear_Conv(51)"
   ]
  }
 ],
 "metadata": {
  "kernelspec": {
   "display_name": "Python 3",
   "language": "python",
   "name": "python3"
  },
  "language_info": {
   "codemirror_mode": {
    "name": "ipython",
    "version": 3
   },
   "file_extension": ".py",
   "mimetype": "text/x-python",
   "name": "python",
   "nbconvert_exporter": "python",
   "pygments_lexer": "ipython3",
   "version": "3.8.8"
  }
 },
 "nbformat": 4,
 "nbformat_minor": 4
}
