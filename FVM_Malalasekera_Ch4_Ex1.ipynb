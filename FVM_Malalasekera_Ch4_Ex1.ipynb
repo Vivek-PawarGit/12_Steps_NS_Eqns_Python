{
 "cells": [
  {
   "cell_type": "code",
   "execution_count": 271,
   "id": "49550980",
   "metadata": {},
   "outputs": [],
   "source": [
    "import numpy as np\n",
    "import math\n",
    "from matplotlib import pyplot\n",
    "\n",
    "# symbolic math and to solve function\n",
    "import sympy\n",
    "\n",
    "from sympy import init_printing\n",
    "init_printing(use_latex=True)\n",
    "\n",
    "from sympy.utilities.lambdify import lambdify"
   ]
  },
  {
   "cell_type": "code",
   "execution_count": 272,
   "id": "6de0d348",
   "metadata": {},
   "outputs": [],
   "source": [
    "grid = 11               # must be an integer\n",
    "dom_length = 1.0\n",
    "h = dom_length/(grid-1)\n",
    "\n",
    "# print('step size : ', h)\n",
    "\n",
    "x = np.linspace(0.0, dom_length, grid)\n",
    "# print(x)"
   ]
  },
  {
   "cell_type": "code",
   "execution_count": 273,
   "id": "60d62b73",
   "metadata": {},
   "outputs": [],
   "source": [
    "rho = 1.0;\n",
    "u = 0.2;\n",
    "gamma = 0.5;\n",
    "p = rho*u*dom_length/gamma\n",
    "# print(p)"
   ]
  },
  {
   "cell_type": "code",
   "execution_count": 274,
   "id": "f3ed69c4",
   "metadata": {},
   "outputs": [],
   "source": [
    "phi = np.zeros(grid)\n",
    "phi[0] = 1\n",
    "phi[-1] = 0\n",
    "\n",
    "# print('phi', phi)\n",
    "\n",
    "phi_new = np.zeros(grid)\n",
    "phi_new [0] = 1\n",
    "phi_new [-1] = 0\n",
    "\n",
    "# print('new phi', phi_new)"
   ]
  },
  {
   "cell_type": "code",
   "execution_count": 281,
   "id": "fa7c927b",
   "metadata": {},
   "outputs": [
    {
     "name": "stdout",
     "output_type": "stream",
     "text": [
      "Error is \"  8.355696028278237e-07\n",
      "9\n"
     ]
    }
   ],
   "source": [
    "error = 1;\n",
    "iterations = 0;\n",
    "aE = gamma/h - rho*u/2;\n",
    "aW = gamma/h + rho*u/2;\n",
    "aP = rho*u/2 - rho*u/2 + gamma/h + gamma/h;\n",
    "nt = 1\n",
    "\n",
    "# print('aE : ', aE)\n",
    "# print('aW : ', aW)\n",
    "# print('aP : ', aP)\n",
    "\n",
    "while error > 1e-6:\n",
    "# for n in range(nt):  #loop for values of n from 0 to nt, so it will run nt times\n",
    "    phi_new = phi.copy() ##copy the existing values of u into un\n",
    "    for i in range(1, grid-1): ## you can try commenting this line and...\n",
    "        #for i in range(nx): ## ... uncommenting this line and see what happens!\n",
    "        phi[i] = ((aE * phi[i+1] + aW * phi[i-1]) / aP)\n",
    "        \n",
    "        iterations += 1;\n",
    "        error = 0;\n",
    "    for i in range(2, grid-1):\n",
    "        error += np.abs(phi[i] - phi_new[i]);\n",
    "#     print('Old phi : ', phi)\n",
    "#     print('New phi : ', phi_new)   \n",
    "print('Error is \" ', error)\n",
    "        \n",
    "#         phi = phi_new;\n",
    "# print(error)\n",
    "# print(phi)\n",
    "# print(phi_new)\n",
    "print(iterations)"
   ]
  },
  {
   "cell_type": "code",
   "execution_count": null,
   "id": "4bf68aff",
   "metadata": {},
   "outputs": [],
   "source": [
    "pyplot.figure(figsize=(5, 5))\n",
    "pyplot.plot(x, phi, marker='o', lw=2)\n",
    "pyplot.xlim([0, 1])\n",
    "pyplot.ylim([0, 1]);"
   ]
  },
  {
   "cell_type": "markdown",
   "id": "aa5b95c9",
   "metadata": {},
   "source": [
    "## Analytical Solution"
   ]
  },
  {
   "cell_type": "code",
   "execution_count": 224,
   "id": "08d2dd6f",
   "metadata": {},
   "outputs": [],
   "source": [
    "# rho, U, X, gamma, L,  = sympy.symbols('rho U X gamma L')\n",
    "# phi = 1 - ((sympy.exp((rho * U * X)/gamma) - 1) / (sympy.exp((rho * U * L)/gamma) - 1))\n",
    "\n",
    "# print(phi)\n",
    "\n",
    "# phifunc = lambdify((rho, U, X, gamma, L), phi)\n",
    "\n",
    "# rho = 1.0\n",
    "# L = 1.0\n",
    "# gamma = 0.5\n",
    "# U = 0.2\n",
    "\n",
    "# x = np.linspace(0.0, dom_length, grid)\n",
    "\n",
    "# phi_exact = np.asarray([phifunc(rho, U, X, gamma, L) for X in x])\n",
    "# phi\n",
    "# np.set_printoptions(precision=4)\n",
    "# phi_exact\n"
   ]
  },
  {
   "cell_type": "code",
   "execution_count": 223,
   "id": "ca376adf",
   "metadata": {
    "scrolled": true
   },
   "outputs": [],
   "source": [
    "# pyplot.figure(figsize=(5, 5))\n",
    "# pyplot.plot(x, phi_exact, marker='o', lw=2)\n",
    "# pyplot.xlim([0, 1])\n",
    "# pyplot.ylim([0, 1]);"
   ]
  },
  {
   "cell_type": "code",
   "execution_count": null,
   "id": "a758a92c",
   "metadata": {},
   "outputs": [],
   "source": []
  }
 ],
 "metadata": {
  "kernelspec": {
   "display_name": "Python 3",
   "language": "python",
   "name": "python3"
  },
  "language_info": {
   "codemirror_mode": {
    "name": "ipython",
    "version": 3
   },
   "file_extension": ".py",
   "mimetype": "text/x-python",
   "name": "python",
   "nbconvert_exporter": "python",
   "pygments_lexer": "ipython3",
   "version": "3.8.8"
  }
 },
 "nbformat": 4,
 "nbformat_minor": 5
}
