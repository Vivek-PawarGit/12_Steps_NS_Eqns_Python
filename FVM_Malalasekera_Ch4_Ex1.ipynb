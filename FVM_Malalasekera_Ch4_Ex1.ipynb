{
 "cells": [
  {
   "cell_type": "markdown",
   "id": "c47f3215",
   "metadata": {},
   "source": [
    "## Importing packages"
   ]
  },
  {
   "cell_type": "code",
   "execution_count": 534,
   "id": "63458854",
   "metadata": {},
   "outputs": [],
   "source": [
    "import numpy as np\n",
    "import math\n",
    "from matplotlib import pyplot\n",
    "\n",
    "# symbolic math and to solve function\n",
    "import sympy\n",
    "\n",
    "from sympy import init_printing\n",
    "init_printing(use_latex=True)\n",
    "\n",
    "from sympy.utilities.lambdify import lambdify"
   ]
  },
  {
   "cell_type": "markdown",
   "id": "6658e57a",
   "metadata": {},
   "source": [
    "## Define grid and constant parameters"
   ]
  },
  {
   "cell_type": "code",
   "execution_count": 535,
   "id": "6de0d348",
   "metadata": {},
   "outputs": [],
   "source": [
    "grid = 11               # must be an integer\n",
    "dom_length = 1.0\n",
    "h = dom_length/(grid-1)\n",
    "# print('step size : ', h)\n",
    "\n",
    "x = np.linspace(0.0, dom_length, grid) # define array for plotting\n",
    "# print(x)\n",
    "\n",
    "# define constant parameters\n",
    "\n",
    "rho = 1.0;\n",
    "u = 0.2;\n",
    "gamma = 0.5;\n",
    "\n",
    "p = rho*u*dom_length/gamma # by calculting constan parameter outside loop helps to run simulation faster\n",
    "# print(p)                 # peclet number\n",
    "\n",
    "\n",
    "## define values for intial grid\n",
    "\n",
    "phi = np.zeros(grid)\n",
    "phi[0] = 1\n",
    "phi[-1] = 0\n",
    "# print('phi', phi)\n",
    "# print('shape of array (phi) =', np.shape(phi)) # it helps to make sure array size matches for plotting\n",
    "\n",
    "\n",
    "phi_new = np.zeros(grid)\n",
    "phi_new [0] = 1\n",
    "phi_new [-1] = 0\n",
    "# print('new phi', phi_new)\n"
   ]
  },
  {
   "cell_type": "markdown",
   "id": "30ac6803",
   "metadata": {},
   "source": [
    "## FVM Central Differencing Scheme : iterating untill satisfy convergence criteria"
   ]
  },
  {
   "cell_type": "code",
   "execution_count": 536,
   "id": "20fef0e2",
   "metadata": {},
   "outputs": [
    {
     "name": "stdout",
     "output_type": "stream",
     "text": [
      "Error :   9.78E-07\n",
      "Total No. of iterations:  128\n"
     ]
    }
   ],
   "source": [
    "error = 1;\n",
    "iterations = 0;\n",
    "aE = gamma/h - rho*u/2;\n",
    "aW = gamma/h + rho*u/2;\n",
    "aP = rho*u/2 - rho*u/2 + gamma/h + gamma/h;\n",
    "# nt = 1\n",
    "\n",
    "# print('aE : ', aE)\n",
    "# print('aW : ', aW)\n",
    "# print('aP : ', aP)\n",
    "\n",
    "while error > 1e-6:            # iterate until satisfies the convvergence criteria\n",
    "    phi_new = phi.copy()       # copy the existing values of u into un\n",
    "    for i in range(1, grid-1): # you can try commenting this line and...\n",
    "        phi[i] = ((aE * phi[i+1] + aW * phi[i-1]) / aP)\n",
    "        \n",
    "    iterations += 1;\n",
    "    error = 0;\n",
    "    for i in range(1, grid-1):\n",
    "        error += np.abs(phi[i] - phi_new[i]);\n",
    "#         print('Old phi : ', phi)\n",
    "#         print('New phi : ', phi_new) \n",
    "    \n",
    "#         phi = phi_new;\n",
    "\n",
    "print('Error : %10.2E' %(error))\n",
    "print('Total No. of iterations: ', iterations)\n",
    "\n",
    "\n",
    "\n",
    "#####################################\n",
    "############## Plot #################\n",
    "#####################################\n",
    "\n",
    "\n",
    "## ploting graph for value calculated using FVM:\n",
    "\n",
    "# print(np.shape(phi)) # to check array shape before plotting to avoid errors\n",
    "# print(np.shape(x))\n",
    "\n",
    "\n",
    "# pyplot.figure(figsize=(5, 5))\n",
    "# pyplot.plot(x, phi, color='black', linestyle='dashed', lw=2, marker='o', markersize=6, label='Computational')\n",
    "# pyplot.xlim([0, 1]);\n",
    "# pyplot.ylim([0, 1]);\n",
    "# pyplot.legend();\n",
    "# pyplot.title('CFD Central Differencing Scheme', color='red', size= '16', weight = 'bold');"
   ]
  },
  {
   "cell_type": "markdown",
   "id": "781763a0",
   "metadata": {},
   "source": [
    "## Analytical Solution"
   ]
  },
  {
   "cell_type": "code",
   "execution_count": 537,
   "id": "08d2dd6f",
   "metadata": {},
   "outputs": [],
   "source": [
    "# symbolic math used to calculate analytical solution\n",
    "\n",
    "rho, U, X, gamma, L,  = sympy.symbols('rho U X gamma L')\n",
    "phi_A = 1 - ((sympy.exp((rho * U * X)/gamma) - 1) / (sympy.exp((rho * U * L)/gamma) - 1))\n",
    "#print(phi_A)  # checking written equation is written correctly or not\n",
    "\n",
    "\n",
    "# calculating function phi_A w.r.t. values x \n",
    "phifunc = lambdify((rho, U, X, gamma, L), phi_A)\n",
    "\n",
    "\n",
    "# required to define again as parameters are now symbols, define symbol values \n",
    "rho = 1.0\n",
    "L = 1.0\n",
    "gamma = 0.5\n",
    "U = 0.2\n",
    "\n",
    "x = np.linspace(0.0, dom_length, grid)\n",
    "phi_exact = np.asarray([phifunc(rho, U, X, gamma, L) for X in x])\n",
    "\n",
    "np.set_printoptions(precision=4)  # to limit the output upto only 4 decimal place\n",
    "\n",
    "\n",
    "# print(phi_exact)\n",
    "# print(np.shape(phi_exact))\n",
    "# print(np.shape(x))\n",
    "\n",
    "\n",
    "#####################################\n",
    "############## Plot #################\n",
    "#####################################\n",
    "\n",
    "# pyplot.figure(figsize=(5, 5))\n",
    "# pyplot.plot(x, phi_exact, color='red', linestyle='solid', lw=2, marker='+', markersize=6, label='Analytical')\n",
    "# pyplot.xlim([0, 1])\n",
    "# pyplot.ylim([0, 1]);\n",
    "# pyplot.legend();\n"
   ]
  },
  {
   "cell_type": "markdown",
   "id": "4389cf7b",
   "metadata": {
    "scrolled": true
   },
   "source": [
    "## Comparison between Analytical solution and CFD: Central differencing scheme"
   ]
  },
  {
   "cell_type": "code",
   "execution_count": 538,
   "id": "7d98f23d",
   "metadata": {},
   "outputs": [
    {
     "data": {
      "image/png": "[encoded data removed]",
      "text/plain": [
       "<Figure size 360x360 with 1 Axes>"
      ]
     },
     "metadata": {
      "needs_background": "light"
     },
     "output_type": "display_data"
    }
   ],
   "source": [
    "# comparison between Analytical solution and CFD: Central differencing scheme\n",
    "pyplot.figure(figsize=(5, 5))\n",
    "pyplot.plot(x, phi, color='black', linestyle='dashed', lw=2, marker='o', markersize=6,label='Computational')\n",
    "pyplot.plot(x, phi_exact, color='red', linestyle='solid', lw=2, marker='+', markersize=6, label='Analytical')\n",
    "pyplot.xlim([0, 1])\n",
    "pyplot.ylim([0, 1]);\n",
    "pyplot.legend();"
   ]
  }
 ],
 "metadata": {
  "kernelspec": {
   "display_name": "Python 3",
   "language": "python",
   "name": "python3"
  },
  "language_info": {
   "codemirror_mode": {
    "name": "ipython",
    "version": 3
   },
   "file_extension": ".py",
   "mimetype": "text/x-python",
   "name": "python",
   "nbconvert_exporter": "python",
   "pygments_lexer": "ipython3",
   "version": "3.8.8"
  }
 },
 "nbformat": 4,
 "nbformat_minor": 5
}
